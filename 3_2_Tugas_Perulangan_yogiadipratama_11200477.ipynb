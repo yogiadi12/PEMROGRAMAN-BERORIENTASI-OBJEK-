{
 "cells": [
  {
   "cell_type": "code",
   "execution_count": 1,
   "id": "0fec7d42",
   "metadata": {},
   "outputs": [
    {
     "name": "stdout",
     "output_type": "stream",
     "text": [
      "Ini adalah Angka:  1\n",
      "Ini adalah Angka:  2\n",
      "Ini adalah Angka:  3\n",
      "Ini adalah Angka:  4\n",
      "Ini adalah Angka:  5\n",
      "Ini adalah Angka:  7\n",
      "Ini adalah Angka:  8\n",
      "Ini adalah Angka:  9\n",
      "Ini adalah Angka:  10\n"
     ]
    }
   ],
   "source": [
    "count=[1,2,3,4,5,7,8,9,10]\n",
    "\n",
    "for number in count: \n",
    "     print(\"Ini adalah Angka: \", number)"
   ]
  },
  {
   "cell_type": "code",
   "execution_count": 2,
   "id": "03c28c9d",
   "metadata": {},
   "outputs": [
    {
     "name": "stdout",
     "output_type": "stream",
     "text": [
      "Ini adalah Angka:  -20\n",
      "Ini adalah Angka:  -21\n",
      "Ini adalah Angka:  -23\n",
      "Ini adalah Angka:  -24\n",
      "Ini adalah Angka:  -25\n",
      "Ini adalah Angka:  -26\n",
      "Ini adalah Angka:  -27\n",
      "Ini adalah Angka:  -28\n",
      "Ini adalah Angka:  -29\n",
      "Ini adalah Angka:  -30\n",
      "Ini adalah Angka:  -31\n",
      "Ini adalah Angka:  -32\n",
      "Ini adalah Angka:  -34\n",
      "Ini adalah Angka:  -35\n",
      "Ini adalah Angka:  -36\n",
      "Ini adalah Angka:  -37\n",
      "Ini adalah Angka:  -38\n",
      "Ini adalah Angka:  -39\n",
      "Ini adalah Angka:  -40\n",
      "Ini adalah Angka:  -41\n",
      "Ini adalah Angka:  -42\n",
      "Ini adalah Angka:  -43\n",
      "Ini adalah Angka:  -45\n",
      "Ini adalah Angka:  -46\n",
      "Ini adalah Angka:  -47\n",
      "Ini adalah Angka:  -48\n",
      "Ini adalah Angka:  -49\n",
      "Ini adalah Angka:  -50\n"
     ]
    }
   ],
   "source": [
    "#Jawaban Tugas 3.2.1.2\n",
    "i = -50\n",
    "while i <= -20:\n",
    "  print(i)\n",
    "  i += 1"
   ]
  },
  {
   "cell_type": "code",
   "execution_count": 3,
   "id": "24cfabdf",
   "metadata": {},
   "outputs": [
    {
     "name": "stdout",
     "output_type": "stream",
     "text": [
      "angka Ganjil 1\n",
      "angka Genap 2\n",
      "angka Ganjil 3\n",
      "angka Genap 4\n",
      "angka Ganjil 5\n",
      "angka Genap 6\n",
      "angka Ganjil 7\n",
      "angka Genap 8\n",
      "angka Ganjil 9\n",
      "angka Genap 10\n"
     ]
    }
   ],
   "source": [
    "for i in range (1,11):\n",
    "   if (i%2==0):\n",
    "        print (\"angka Genap\",i)\n",
    "   else:\n",
    "        print(\"angka Ganjil\",i)"
   ]
  }
 ],
 "metadata": {
  "kernelspec": {
   "display_name": "Python 3 (ipykernel)",
   "language": "python",
   "name": "python3"
  },
  "language_info": {
   "codemirror_mode": {
    "name": "ipython",
    "version": 3
   },
   "file_extension": ".py",
   "mimetype": "text/x-python",
   "name": "python",
   "nbconvert_exporter": "python",
   "pygments_lexer": "ipython3",
   "version": "3.10.0"
  }
 },
 "nbformat": 4,
 "nbformat_minor": 5
}
