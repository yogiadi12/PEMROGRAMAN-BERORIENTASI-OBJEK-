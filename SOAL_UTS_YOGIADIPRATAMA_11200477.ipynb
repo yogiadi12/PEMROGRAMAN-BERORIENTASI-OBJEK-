{
 "cells": [
  {
   "cell_type": "markdown",
   "metadata": {
    "id": "207NNMC_vMNX"
   },
   "source": [
    "## Soal UTS I\n",
    "Buatlah Program dengan bahasa python untuk menampilkan nama dan NIM anda pada halaman notebook ini"
   ]
  },
  {
   "cell_type": "code",
   "execution_count": 3,
   "metadata": {
    "id": "ayXUPo6SvaqJ"
   },
   "outputs": [
    {
     "name": "stdout",
     "output_type": "stream",
     "text": [
      "Yogi adi pratama 11200477 Sistem Informasi\n"
     ]
    }
   ],
   "source": [
    "nama = \"Yogi adi pratama\"\n",
    "nim= \"11200477\"\n",
    "prodi= \"Sistem Informasi\"\n",
    "print(nama,nim,prodi)"
   ]
  },
  {
   "cell_type": "markdown",
   "metadata": {
    "id": "txgZNIDhuEvS"
   },
   "source": [
    "## Soal UTS II\n",
    "\n",
    "\n",
    "Kerjakan salah satu dari dua soal berikut (Soal A atau B) sesuai dengan digit terakhir NIM anda.\n",
    "\n",
    "Jika Digit terakhir NIM anda adalah ganjil atau nol(0) kerjakanlan Soal A berikut ini\n",
    "\n",
    "Jika Digit terakhir NIM anda adalah genap kerjakanlan Soal B berikut ini \n",
    "\n",
    "**Soal B**\n",
    "\n",
    "Bualah aplikasi interaktif dengan pemrograman Python yang menerima input variable dari keyboard untuk mencari keliling bangun datar lingkaran.\n",
    "\n",
    "Dengan tampilan sebagai berikut:\n",
    "```\n",
    "Masukan Diameter : \n",
    "Keliling Lingkaran   :\n",
    "```"
   ]
  },
  {
   "cell_type": "markdown",
   "metadata": {
    "id": "L5pweWJ4vHe7"
   },
   "source": []
  },
  {
   "cell_type": "code",
   "execution_count": 4,
   "metadata": {
    "id": "mJ2YcXznurKe"
   },
   "outputs": [
    {
     "name": "stdout",
     "output_type": "stream",
     "text": [
      "Menghitung Luas Lingkaran\n",
      "Masukkan diameter Lingkaran : 11\n",
      "Luas Lingkaran adalah 94.985\n"
     ]
    }
   ],
   "source": [
    "#Jawab\n",
    "print (\"Menghitung Luas Lingkaran\")\n",
    "a=int(input(\"Masukkan diameter Lingkaran : \"))\n",
    "b=int(2)\n",
    "pembagian =a/b\n",
    "diameter = (pembagian)\n",
    "phi = 3.14\n",
    "luas =  phi * float(diameter) * float(diameter) \n",
    "print (\"Luas Lingkaran adalah\",luas)"
   ]
  },
  {
   "cell_type": "code",
   "execution_count": null,
   "metadata": {},
   "outputs": [],
   "source": []
  }
 ],
 "metadata": {
  "colab": {
   "collapsed_sections": [],
   "name": "UTS-SI.ipynb",
   "provenance": []
  },
  "kernelspec": {
   "display_name": "Python 3 (ipykernel)",
   "language": "python",
   "name": "python3"
  },
  "language_info": {
   "codemirror_mode": {
    "name": "ipython",
    "version": 3
   },
   "file_extension": ".py",
   "mimetype": "text/x-python",
   "name": "python",
   "nbconvert_exporter": "python",
   "pygments_lexer": "ipython3",
   "version": "3.10.0"
  }
 },
 "nbformat": 4,
 "nbformat_minor": 1
}
