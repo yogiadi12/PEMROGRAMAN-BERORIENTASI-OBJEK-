{
  "nbformat": 4,
  "nbformat_minor": 0,
  "metadata": {
    "colab": {
      "name": "2_4_print_tipe_data._yogiadipratama_11200477.ipynb",
      "provenance": [],
      "collapsed_sections": []
    },
    "kernelspec": {
      "name": "python3",
      "display_name": "Python 3"
    }
  },
  "cells": [
    {
      "cell_type": "code",
      "metadata": {
        "id": "4dfSpquWCSJc"
      },
      "source": [
        ""
      ],
      "execution_count": null,
      "outputs": []
    },
    {
      "cell_type": "markdown",
      "metadata": {
        "id": "45cjtVtg8pTP"
      },
      "source": [
        "##Mencetak Tipe Data\n",
        "**Praktik 2.4.1**\n",
        "Cobalah mengetik kode di bawah ini :\n",
        "``` javascript\n",
        "#tipe data Boolean\n",
        "print(True)\n",
        "\n",
        "\n",
        "#tipe data String\n",
        "print(\"Mari belajar Python\")\n",
        "print('Belajar Python Sangat Dengan Mudah')\n",
        "\n",
        "\n",
        "#tipe data Integer\n",
        "print(20)\n",
        "\n",
        "\n",
        "#tipe data Float\n",
        "print(3.14)\n",
        "\n",
        "\n",
        "#tipe data List\n",
        "print([1,2,3,4,5])\n",
        "print([\"satu\", \"dua\", \"tiga\"])\n",
        "\n",
        "\n",
        "#tipe data Tuple\n",
        "print((1,2,3,4,5))\n",
        "print((\"satu\", \"dua\", \"tiga\"))\n",
        "\n",
        "\n",
        "#tipe data Dictionary\n",
        "print({\"nama\":\"Budi\", 'umur':20})\n",
        "\n",
        "#tipe data Dictionary dimasukan ke dalam variabel biodata\n",
        "biodata = {\"nama\":\"Andi\", 'umur':21} #proses inisialisasi variabel biodata\n",
        "print(biodata) #proses pencetakan variabel biodata yang berisi tipe data Dictionary\n",
        "type(biodata) #fungsi untuk mengecek jenis tipe data. akan tampil <class 'dict'>\n",
        "``` "
      ]
    },
    {
      "cell_type": "code",
      "metadata": {
        "id": "ujERTDu_9Udi"
      },
      "source": [
        "#Jawab Praktik 2.4.1\n"
      ],
      "execution_count": null,
      "outputs": []
    },
    {
      "cell_type": "markdown",
      "metadata": {
        "id": "Nu-cCxbQ9U8i"
      },
      "source": [
        "**Tugas Praktek 3.3**\n",
        "\n",
        "1.Printing Data type menggunakan Variable.\n",
        "Ketikan kode di bawah ini pada Code Editor.\n",
        "``` javascript\n",
        "var_string=\"Mari Belajar Python\"\n",
        "var_int=10\n",
        "var_float=3.14\n",
        "var_list=[1,2,3,4]\n",
        "var_tuple=(\"satu\",\"dua\",\"tiga\")\n",
        "var_dict={\"nama\":\"Ali\", 'umur':20}\n",
        "\n",
        "\n",
        "print(var_string)\n",
        "print(var_int)\n",
        "print(var_float)\n",
        "print(var_list)\n",
        "print(var_tuple)\n",
        "print(var_dict)\n",
        "```\n"
      ]
    },
    {
      "cell_type": "code",
      "metadata": {
        "id": "1tGciAb2-RiJ",
        "colab": {
          "base_uri": "https://localhost:8080/"
        },
        "outputId": "c79c3d46-e3b9-44ee-a9c3-4c05d21702dd"
      },
      "source": [
        "#Jawab Tugas Praktek 3.3 Nomor 1\n",
        "\n",
        "var_string=\"Mari Belajar Python\"\n",
        "var_int=10\n",
        "var_float=3.14\n",
        "var_list=[1,2,3,4]\n",
        "var_tuple=(\"satu\",\"dua\",\"tiga\")\n",
        "var_dict={\"nama\":\"Ali\", 'umur':20}\n",
        "\n",
        "print(var_string)\n",
        "print(var_int)\n",
        "print(var_float)\n",
        "print(var_list)\n",
        "print(var_tuple)\n",
        "print(var_dict)"
      ],
      "execution_count": null,
      "outputs": [
        {
          "output_type": "stream",
          "name": "stdout",
          "text": [
            "Mari Belajar Python\n",
            "10\n",
            "3.14\n",
            "[1, 2, 3, 4]\n",
            "('satu', 'dua', 'tiga')\n",
            "{'nama': 'Ali', 'umur': 20}\n"
          ]
        }
      ]
    },
    {
      "cell_type": "markdown",
      "metadata": {
        "id": "MhwlX9P3-SCL"
      },
      "source": [
        "2. Tambahkan code di bawah ini untuk mengetahui type data dari suatu value di variabel.\n",
        "``` javascript\n",
        "print(type(var_string))\n",
        "print(type(var_int))\n",
        "print(type(var_float))\n",
        "print(type(var_list))\n",
        "print(type(var_tuple))\n",
        "print(type(var_dict))\n",
        "```"
      ]
    },
    {
      "cell_type": "code",
      "metadata": {
        "id": "hPGODjeh-aEX",
        "colab": {
          "base_uri": "https://localhost:8080/"
        },
        "outputId": "698db979-1583-404c-889d-0eebbfaa30c7"
      },
      "source": [
        "#Jawab Tugas Praktek 3.3 Nomor 2\n",
        "print(type(var_string))\n",
        "print(type(var_int))\n",
        "print(type(var_float))\n",
        "print(type(var_list))\n",
        "print(type(var_tuple))\n",
        "print(type(var_dict))"
      ],
      "execution_count": null,
      "outputs": [
        {
          "output_type": "stream",
          "name": "stdout",
          "text": [
            "<class 'str'>\n",
            "<class 'int'>\n",
            "<class 'float'>\n",
            "<class 'list'>\n",
            "<class 'tuple'>\n",
            "<class 'dict'>\n"
          ]
        }
      ]
    }
  ]
}