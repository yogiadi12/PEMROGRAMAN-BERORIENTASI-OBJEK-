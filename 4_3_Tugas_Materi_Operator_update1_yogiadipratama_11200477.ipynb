{
 "cells": [
  {
   "cell_type": "code",
   "execution_count": 1,
   "id": "76987c48",
   "metadata": {},
   "outputs": [
    {
     "name": "stdout",
     "output_type": "stream",
     "text": [
      "Masukan Bilangan :10\n",
      " 10 Merupakan Bilangan Genap\n"
     ]
    }
   ],
   "source": [
    "bil = int(input(\"Masukan Bilangan :\"))\n",
    "\n",
    "if bil % 2 == 0:\n",
    "    print(\" %d Merupakan Bilangan Genap\" % bil)\n",
    "else:\n",
    "    print(\"%d Merupakan Bilangan Ganjil\" % bil)"
   ]
  },
  {
   "cell_type": "code",
   "execution_count": 2,
   "id": "947147a3",
   "metadata": {},
   "outputs": [
    {
     "name": "stdout",
     "output_type": "stream",
     "text": [
      "Masukan Bilangan :5\n",
      "5 Merupakan Bilangan Ganjil\n"
     ]
    }
   ],
   "source": [
    "bil = int(input(\"Masukan Bilangan :\"))\n",
    "\n",
    "if bil % 2 == 0:\n",
    "    print(\" %d Merupakan Bilangan Genap\" % bil)\n",
    "else:\n",
    "    print(\"%d Merupakan Bilangan Ganjil\" % bil)"
   ]
  },
  {
   "cell_type": "code",
   "execution_count": null,
   "id": "bd07b934",
   "metadata": {},
   "outputs": [],
   "source": []
  }
 ],
 "metadata": {
  "kernelspec": {
   "display_name": "Python 3 (ipykernel)",
   "language": "python",
   "name": "python3"
  },
  "language_info": {
   "codemirror_mode": {
    "name": "ipython",
    "version": 3
   },
   "file_extension": ".py",
   "mimetype": "text/x-python",
   "name": "python",
   "nbconvert_exporter": "python",
   "pygments_lexer": "ipython3",
   "version": "3.10.0"
  }
 },
 "nbformat": 4,
 "nbformat_minor": 5
}
