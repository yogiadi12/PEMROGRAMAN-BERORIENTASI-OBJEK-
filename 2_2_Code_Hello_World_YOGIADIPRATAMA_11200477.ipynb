{
  "nbformat": 4,
  "nbformat_minor": 0,
  "metadata": {
    "colab": {
      "name": "2_2_Code_Hello_World_YOGIADIPRATAMA_11200477.ipynb",
      "provenance": [],
      "collapsed_sections": []
    },
    "kernelspec": {
      "name": "python3",
      "display_name": "Python 3"
    }
  },
  "cells": [
    {
      "cell_type": "code",
      "metadata": {
        "id": "QChNmnXf_-pE"
      },
      "source": [
        ""
      ],
      "execution_count": null,
      "outputs": []
    },
    {
      "cell_type": "markdown",
      "metadata": {
        "id": "CQqHfxdyArzJ"
      },
      "source": [
        "##Code Hello World\n",
        "Struktur code pada Python relatif sangat sederhana dan tidak terlalu rumit seperti pada Java ataupun C. Selain karena memang mudah dibaca, python juga termasuk pada high level programming language. Sebagai contoh, cobalah ketik coding pada Code Editor dengan perintah berikut untuk mengeluarkan kata-kata yang diperintahkan. Ekskusilah perintah dari kode dibawah ini."
      ]
    },
    {
      "cell_type": "code",
      "metadata": {
        "id": "oBXKvs3qA2Xb"
      },
      "source": [
        "print (\"Hello World\")"
      ],
      "execution_count": null,
      "outputs": []
    },
    {
      "cell_type": "markdown",
      "metadata": {
        "id": "8yPh4FQWA_DU"
      },
      "source": [
        "Coba lanjutkan code tersebut pada baris selanjutnya dengan menggunakan kode ini :"
      ]
    },
    {
      "cell_type": "code",
      "metadata": {
        "id": "Yy5gqIzRBApb"
      },
      "source": [
        "print (\"Hello World\")\n",
        "print(5+1)"
      ],
      "execution_count": null,
      "outputs": []
    },
    {
      "cell_type": "markdown",
      "metadata": {
        "id": "PQsFFoqjBJm0"
      },
      "source": [
        "***Note : setiap print akan mencetak baris baru.***\n",
        "\n",
        "Memang terlihat sangat sederhana jika hanya untuk kasus sederhana yang kita pelajari pada section kali ini. Namun, python tidak sesederhana itu. Biasanya kita juga menggunakan import library khusus jika sudah menyangkut masalah yang lebih kompleks. Materi berikutnya mungkin akan menjelaskan lebih lanjut.\n",
        "\n",
        " \n",
        "\n",
        "**Tugas Praktek 3.1**  \n",
        "1. Tampilkan hasil perhitungan (10*2+5) pada baris pertama."
      ]
    },
    {
      "cell_type": "code",
      "metadata": {
        "id": "UVE42BSRq-Ac",
        "colab": {
          "base_uri": "https://localhost:8080/"
        },
        "outputId": "c59dc6ad-fbfe-4adb-e26c-6b36bea89686"
      },
      "source": [
        "# Jawab Tugas Praktek 3.1 Nomor 1\n",
        "print (10*2+5)"
      ],
      "execution_count": null,
      "outputs": [
        {
          "output_type": "stream",
          "name": "stdout",
          "text": [
            "25\n"
          ]
        }
      ]
    },
    {
      "cell_type": "markdown",
      "metadata": {
        "id": "KmVhSyrQq_S6"
      },
      "source": [
        "2. tampilkan teks \"2023 Aku kaya mulia\" pada baris kedua."
      ]
    },
    {
      "cell_type": "code",
      "metadata": {
        "id": "Wko-4QrwsBgj",
        "colab": {
          "base_uri": "https://localhost:8080/"
        },
        "outputId": "7bfd30da-00fb-4207-fe90-5f86a5f229a3"
      },
      "source": [
        "# Jawab Tugas Praktek 3.1 Nomor 2\n",
        "print (\"2023 aku kaya mulia\")"
      ],
      "execution_count": null,
      "outputs": [
        {
          "output_type": "stream",
          "name": "stdout",
          "text": [
            "2023 aku kaya mulia\n"
          ]
        }
      ]
    },
    {
      "cell_type": "markdown",
      "metadata": {
        "id": "z5MM1FEBrswd"
      },
      "source": [
        "3. Tampilkan teks Nama anda"
      ]
    },
    {
      "cell_type": "code",
      "metadata": {
        "id": "8dylS54Rq_1D",
        "colab": {
          "base_uri": "https://localhost:8080/"
        },
        "outputId": "704202af-283a-475d-c326-4eddd63b3455"
      },
      "source": [
        "# Jawab Tugas Praktek 3.1 Nomor 3\n",
        "print (\"YOGI ADI PRATAMA\")"
      ],
      "execution_count": null,
      "outputs": [
        {
          "output_type": "stream",
          "name": "stdout",
          "text": [
            "YOGI ADI PRATAMA\n"
          ]
        }
      ]
    }
  ]
}